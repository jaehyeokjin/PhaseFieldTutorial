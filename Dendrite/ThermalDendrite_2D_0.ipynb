{
 "cells": [
  {
   "cell_type": "code",
   "execution_count": null,
   "metadata": {},
   "outputs": [],
   "source": [
    "import numpy as np\n",
    "from matplotlib import pyplot as plt"
   ]
  },
  {
   "cell_type": "code",
   "execution_count": null,
   "metadata": {},
   "outputs": [],
   "source": [
    "W0 = 1\n",
    "tau0 = 1\n",
    "dx = 0.8\n",
    "dy = 0.8\n",
    "dt = 0.016\n",
    "D = 4\n",
    "Delta = 0\n",
    "epsilon = 0.05"
   ]
  },
  {
   "cell_type": "code",
   "execution_count": null,
   "metadata": {},
   "outputs": [],
   "source": [
    "I = 2.0*np.sqrt(2.0)/3.0\n",
    "J = 16.0/15.0\n",
    "K = 0.2236\n",
    "F = 0.4941\n",
    "a1 = I/J\n",
    "a2 = (K+J*F)/(2*I)\n",
    "lam = 1/a2*D*tau0/(W0*W0)"
   ]
  },
  {
   "cell_type": "code",
   "execution_count": null,
   "metadata": {},
   "outputs": [],
   "source": [
    "xmin = 0; xmax = 100\n",
    "ymin = 0; ymax = 100\n",
    "y,x = np.ogrid[ymin:ymax:dy,xmin:xmax:dx]\n",
    "x = x + dx/2\n",
    "y = y + dy/2"
   ]
  },
  {
   "cell_type": "code",
   "execution_count": null,
   "metadata": {},
   "outputs": [],
   "source": [
    "R = 5\n",
    "r = np.sqrt(x**2+y**2)\n",
    "phi0 = -np.tanh((r-R)/np.sqrt(2))\n",
    "u0 = 0*phi0 + Delta\n",
    "im = plt.imshow(phi0,origin='lower',extent=[xmin,xmax,ymin,ymax],cmap='hot_r')\n",
    "plt.colorbar(im)"
   ]
  },
  {
   "cell_type": "code",
   "execution_count": null,
   "metadata": {},
   "outputs": [],
   "source": [
    "stepmax = 800\n",
    "stepout = 100\n",
    "\n",
    "phi = phi0\n",
    "u = u0\n",
    "\n",
    "\n",
    "for i in np.arange(stepmax+1):\n",
    "\n",
    "\tif np.mod(i,stepout)==0:\n",
    "\t\tprint(i)\n",
    "\t\tplt.show(plt.imshow(phi,origin='lower',extent=[xmin,xmax,ymin,ymax],clim=[-1,1],cmap='hot_r'))\n",
    "\n",
    "\tif i == stepmax:\n",
    "\t\tbreak\n",
    "\n",
    "\txbc = np.zeros_like(y)\t# NY,1\n",
    "\tybc = np.zeros_like(x)\t# 1,NX\n",
    "\n",
    "\tphix = \n",
    "\tphiy = \n",
    "\n",
    "\tphixx = \n",
    "\tphiyy = \n",
    "\n",
    "\tphidot = \n",
    "\n",
    "\tphi = phi + dt*phidot"
   ]
  }
 ],
 "metadata": {
  "kernelspec": {
   "display_name": "Python 3 (ipykernel)",
   "language": "python",
   "name": "python3"
  },
  "language_info": {
   "codemirror_mode": {
    "name": "ipython",
    "version": 3
   },
   "file_extension": ".py",
   "mimetype": "text/x-python",
   "name": "python",
   "nbconvert_exporter": "python",
   "pygments_lexer": "ipython3",
   "version": "3.9.12"
  },
  "vscode": {
   "interpreter": {
    "hash": "d52ac7a5912209ef22d135f4e6c6d16f52e7569bd5b30257caeb2d95fc8fc9ee"
   }
  }
 },
 "nbformat": 4,
 "nbformat_minor": 2
}
