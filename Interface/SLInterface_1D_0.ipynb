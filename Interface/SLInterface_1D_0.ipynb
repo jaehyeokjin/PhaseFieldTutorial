{
 "cells": [
  {
   "cell_type": "code",
   "execution_count": null,
   "metadata": {},
   "outputs": [],
   "source": [
    "import numpy as np\n",
    "from matplotlib import pyplot as plt"
   ]
  },
  {
   "cell_type": "code",
   "execution_count": null,
   "metadata": {},
   "outputs": [],
   "source": [
    "W0 = 1\n",
    "tau0 = 1\n",
    "dx = 0.8\n",
    "dy = 0.8\n",
    "dt = 0.016\n",
    "D = 4\n",
    "Delta = 0"
   ]
  },
  {
   "cell_type": "code",
   "execution_count": null,
   "metadata": {},
   "outputs": [],
   "source": [
    "I = 2.0*np.sqrt(2.0)/3.0\n",
    "J = 16.0/15.0\n",
    "K = 0.2236\n",
    "F = 0.4941\n",
    "a1 = I/J\n",
    "a2 = (K+J*F)/(2*I)\n",
    "lam = 1/a2*D*tau0/(W0*W0)"
   ]
  },
  {
   "cell_type": "code",
   "execution_count": null,
   "metadata": {},
   "outputs": [],
   "source": [
    "xmin = -8; xmax = 8\n",
    "x = np.arange(xmin,xmax,dx)+dx/2\n",
    "N = np.size(x)"
   ]
  },
  {
   "cell_type": "code",
   "execution_count": null,
   "metadata": {},
   "outputs": [],
   "source": [
    "phi0 = -np.sign(x/(np.sqrt(2)*W0))\n",
    "u0 = 0*x + Delta\n",
    "plt.plot(x,phi0,'.-',x,u0,'.-')\n",
    "plt.grid()"
   ]
  },
  {
   "cell_type": "code",
   "execution_count": null,
   "metadata": {},
   "outputs": [],
   "source": [
    "stepmax = 1000\n",
    "stepout = 100\n",
    "\n",
    "phi = phi0\n",
    "u = u0\n",
    "\n",
    "for i in np.arange(stepmax+1):\n",
    "\n",
    "\tif np.mod(i,stepout)==0:\n",
    "\t\tprint(i)\n",
    "\t\tplt.plot(x,phi,'.-',x,u,'.-')\n",
    "\t\tplt.ylim(-1,1)\n",
    "\t\tplt.grid()\n",
    "\t\tplt.show()\n",
    "\n",
    "\tif i == stepmax:\n",
    "\t\tbreak\n",
    "\n",
    "\n",
    "\tphix = \n",
    "\tphixx = \n",
    "\n",
    "\tphidot = \n",
    "\n",
    "\tphi = phi + dt*phidot"
   ]
  }
 ],
 "metadata": {
  "kernelspec": {
   "display_name": "Python 3 (ipykernel)",
   "language": "python",
   "name": "python3"
  },
  "language_info": {
   "codemirror_mode": {
    "name": "ipython",
    "version": 3
   },
   "file_extension": ".py",
   "mimetype": "text/x-python",
   "name": "python",
   "nbconvert_exporter": "python",
   "pygments_lexer": "ipython3",
   "version": "3.9.12"
  },
  "vscode": {
   "interpreter": {
    "hash": "d52ac7a5912209ef22d135f4e6c6d16f52e7569bd5b30257caeb2d95fc8fc9ee"
   }
  }
 },
 "nbformat": 4,
 "nbformat_minor": 2
}
